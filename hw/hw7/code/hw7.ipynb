{
 "cells": [
  {
   "cell_type": "markdown",
   "metadata": {},
   "source": [
    "# Math 198 Homework 7"
   ]
  },
  {
   "cell_type": "markdown",
   "metadata": {},
   "source": [
    "## Setup "
   ]
  },
  {
   "cell_type": "markdown",
   "metadata": {},
   "source": [
    "### Installs\n",
    "Run these cells to ensure you have numpy, scipy, and Pillow installed."
   ]
  },
  {
   "cell_type": "code",
   "execution_count": 8,
   "metadata": {},
   "outputs": [
    {
     "name": "stdout",
     "output_type": "stream",
     "text": [
      "Requirement already up-to-date: pip in /Users/seanvernon/opt/anaconda3/lib/python3.7/site-packages (20.1.1)\r\n"
     ]
    }
   ],
   "source": [
    "!pip install --upgrade pip"
   ]
  },
  {
   "cell_type": "code",
   "execution_count": 9,
   "metadata": {},
   "outputs": [
    {
     "name": "stdout",
     "output_type": "stream",
     "text": [
      "Requirement already satisfied: numpy in /Users/seanvernon/opt/anaconda3/lib/python3.7/site-packages (1.17.2)\r\n"
     ]
    }
   ],
   "source": [
    "!pip install numpy"
   ]
  },
  {
   "cell_type": "code",
   "execution_count": 10,
   "metadata": {},
   "outputs": [
    {
     "name": "stdout",
     "output_type": "stream",
     "text": [
      "Requirement already satisfied: scipy in /Users/seanvernon/opt/anaconda3/lib/python3.7/site-packages (1.1.0)\r\n",
      "Requirement already satisfied: numpy>=1.8.2 in /Users/seanvernon/opt/anaconda3/lib/python3.7/site-packages (from scipy) (1.17.2)\r\n"
     ]
    }
   ],
   "source": [
    "!pip install scipy"
   ]
  },
  {
   "cell_type": "code",
   "execution_count": 11,
   "metadata": {},
   "outputs": [
    {
     "name": "stdout",
     "output_type": "stream",
     "text": [
      "Requirement already satisfied: Pillow in /Users/seanvernon/opt/anaconda3/lib/python3.7/site-packages (6.2.0)\r\n"
     ]
    }
   ],
   "source": [
    "!pip install Pillow"
   ]
  },
  {
   "cell_type": "markdown",
   "metadata": {},
   "source": [
    "### Imports\n",
    "Run these cells to import all the required libraries. Note that ```mnist``` is a folder, and should be in the same folder as this file."
   ]
  },
  {
   "cell_type": "code",
   "execution_count": 33,
   "metadata": {},
   "outputs": [
    {
     "name": "stdout",
     "output_type": "stream",
     "text": [
      "/Volumes/Storage Locker/Berkeley/m4ml_decal/hw/hw7/code/mnist\n",
      "/Volumes/Storage Locker/Berkeley/m4ml_decal/hw/hw7/code\n"
     ]
    }
   ],
   "source": [
    "%cd mnist\n",
    "import mnist\n",
    "%cd .."
   ]
  },
  {
   "cell_type": "code",
   "execution_count": 67,
   "metadata": {},
   "outputs": [],
   "source": [
    "from PIL import Image\n",
    "import numpy as np"
   ]
  },
  {
   "cell_type": "markdown",
   "metadata": {},
   "source": [
    "### Load the Data\n",
    "Run this cell to load the MNIST database."
   ]
  },
  {
   "cell_type": "code",
   "execution_count": 68,
   "metadata": {},
   "outputs": [],
   "source": [
    "train_images = mnist.train_images()\n",
    "train_labels = mnist.train_labels()\n",
    "input_dim = len(train_images[0]) * len(train_images[0][0]) # The dimension of our input vectors\n",
    "output_dim = 10 # The number of possible labels, 0 through 9"
   ]
  },
  {
   "cell_type": "markdown",
   "metadata": {},
   "source": [
    "### View the Data\n",
    "Run this cell to view a random sample image from the MNIST database."
   ]
  },
  {
   "cell_type": "code",
   "execution_count": 69,
   "metadata": {},
   "outputs": [
    {
     "name": "stdout",
     "output_type": "stream",
     "text": [
      "Label: 3\n"
     ]
    },
    {
     "data": {
      "image/png": "[encoded data removed]",
      "text/plain": [
       "<PIL.Image.Image image mode=L size=28x28 at 0x7F909B106AD0>"
      ]
     },
     "execution_count": 69,
     "metadata": {},
     "output_type": "execute_result"
    }
   ],
   "source": [
    "num = np.random.randint(len(train_labels))\n",
    "print(\"Label: \" + str(train_labels[num]))\n",
    "Image.fromarray(train_images[num])"
   ]
  },
  {
   "cell_type": "markdown",
   "metadata": {},
   "source": [
    "## Neural Network Code\n",
    "The ```MNIST_Net``` class defines the structure of the neural network we will train. You will need to fill in a few lines of the ```backward``` function, which computes the gradient of the loss function with respect to the weights for each set of weights and biases."
   ]
  },
  {
   "cell_type": "code",
   "execution_count": 77,
   "metadata": {},
   "outputs": [],
   "source": [
    "class MNIST_Net:\n",
    "    \n",
    "    # input_dim: The dimension of the input vectors\n",
    "    # hidden_dim: The dimension of the hidden layer\n",
    "    # output_dim: The dimension of the output layer (i.e. the number of classes)\n",
    "    def __init__(self, input_dim, hidden_dim, output_dim):\n",
    "        # Randomly initializes the weight layers with mean 0 and standard deviation .001, \n",
    "        # and initializes the bias layers to all zeroes.\n",
    "        self.W1 = np.random.normal(0, 1e-3, hidden_dim * input_dim).reshape((hidden_dim, input_dim))\n",
    "        self.B1 = np.zeros(hidden_dim)\n",
    "        self.W2 = np.random.normal(0, 1e-3, output_dim * hidden_dim).reshape((output_dim, hidden_dim))\n",
    "        self.B2 = np.zeros(output_dim)\n",
    "        # Defines the ReLU function to set all negative entries in the input to 0\n",
    "        self.ReLU = lambda x: np.maximum(np.zeros(x.shape), x)\n",
    "         \n",
    "    # Generates a vector of predictions for the input x\n",
    "    def forward(self, x):\n",
    "        # Reshape x as a vector\n",
    "        x = x.reshape(x.shape[0] * x.shape[1])\n",
    "        # Apply the first layer of weights to the input\n",
    "        h = (self.W1 @ x) + self.B1\n",
    "        # Apply ReLU\n",
    "        h_prime = self.ReLU(h)\n",
    "        # Apply the second layer of weights\n",
    "        y_prime = (self.W2 @ h_prime) + self.B2\n",
    "        # Save intermediate values\n",
    "        cache = (x, h, h_prime)\n",
    "        return (y_prime, cache)\n",
    "    \n",
    "   # Calculates the loss for this prediction\n",
    "    def loss(self, y, y_prime):\n",
    "        def one_hot(y):\n",
    "            ret = np.zeros(10)\n",
    "            ret[y] = 1\n",
    "            return ret\n",
    "        return np.linalg.norm(one_hot(y) - y_prime) ** 2\n",
    "    \n",
    "    # Calculates the gradients for each weight and bias layer w.r.t loss\n",
    "    # This function is called \"backward\" because it calculates gradients in reverse order.\n",
    "    # This is done so all calculations are matrix-vector products rather than matrix-matrix;\n",
    "    # this algorithm is known as \"backpropagation\".\n",
    "    def backward(self, y, y_prime, cache):\n",
    "        x, h, h_prime = cache\n",
    "        loss = self.loss(y, y_prime)\n",
    "        dy_prime = # YOUR CODE HERE\n",
    "        dW2 = \n",
    "        db2 = \n",
    "        dh_prime = \n",
    "        dh = \n",
    "        dW1 = \n",
    "        db1 = \n",
    "        return (dW1, db1, dW2, db2)"
   ]
  },
  {
   "cell_type": "code",
   "execution_count": 81,
   "metadata": {},
   "outputs": [
    {
     "name": "stdout",
     "output_type": "stream",
     "text": [
      "Predicted: 5, Actual: 3, Loss: 1.0162920581580404\n"
     ]
    },
    {
     "data": {
      "image/png": "[encoded data removed]",
      "text/plain": [
       "<PIL.Image.Image image mode=L size=28x28 at 0x7F909B117A10>"
      ]
     },
     "execution_count": 81,
     "metadata": {},
     "output_type": "execute_result"
    }
   ],
   "source": [
    "# Test the MNIST_Net on a random sample image to make sure everything was initialized correctly\n",
    "# Note: This prediction will probably be wrong, as we have not begun to train the net yet\n",
    "\n",
    "model = MNIST_Net(input_dim, 100, output_dim)\n",
    "\n",
    "num = np.random.randint(len(train_labels))\n",
    "img = train_images[num]\n",
    "pred, _ = model.forward(img)\n",
    "actual_label = train_labels[num]\n",
    "print(\"Predicted: {}, Actual: {}, Loss: {}\".format(np.argmax(pred), train_labels[num], \\\n",
    "                                                   model.loss(actual_label, pred)))\n",
    "Image.fromarray(img)"
   ]
  },
  {
   "cell_type": "markdown",
   "metadata": {},
   "source": [
    "## Training Code\n",
    "The ```MNIST_Trainer``` class takes in an ```MNIST_Net``` and training data, trains the net for the given number of epochs, and outputs training and validation accuracies after each epoch. You will need to fill in one line of the ```train``` function, which performs the weight update."
   ]
  },
  {
   "cell_type": "code",
   "execution_count": 62,
   "metadata": {},
   "outputs": [
    {
     "data": {
      "text/plain": [
       "(28, 28)"
      ]
     },
     "execution_count": 62,
     "metadata": {},
     "output_type": "execute_result"
    }
   ],
   "source": [
    "train_images[0].shape"
   ]
  },
  {
   "cell_type": "code",
   "execution_count": null,
   "metadata": {},
   "outputs": [],
   "source": []
  }
 ],
 "metadata": {
  "kernelspec": {
   "display_name": "Python 3",
   "language": "python",
   "name": "python3"
  },
  "language_info": {
   "codemirror_mode": {
    "name": "ipython",
    "version": 3
   },
   "file_extension": ".py",
   "mimetype": "text/x-python",
   "name": "python",
   "nbconvert_exporter": "python",
   "pygments_lexer": "ipython3",
   "version": "3.7.4"
  }
 },
 "nbformat": 4,
 "nbformat_minor": 2
}
